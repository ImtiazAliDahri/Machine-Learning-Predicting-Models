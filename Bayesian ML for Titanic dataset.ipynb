{
 "cells": [
  {
   "cell_type": "markdown",
   "id": "714f4d9d-e147-44a1-9443-f7a74f4c174d",
   "metadata": {},
   "source": [
    "## Exploring Bayesian Machine Learning: A Case Study on Titanic Survival Prediction\n",
    "\n",
    "\n",
    "As part of my journey to master Bayesian machine learning concepts, I am undertaking a comprehensive analysis of the Titanic dataset using Bayesian techniques. This project aims to deepen my understanding of Bayesian methods and their applications in predictive modeling.\n"
   ]
  },
  {
   "cell_type": "markdown",
   "id": "1851cd5b-0943-413b-b569-5bda27104c66",
   "metadata": {},
   "source": [
    "#### Importing necessary Libraries and Loading [Kaggle data set](https://www.kaggle.com/datasets/waqi786/titanic-dataset/data)\n"
   ]
  },
  {
   "cell_type": "code",
   "execution_count": 82,
   "id": "f5a617a9-d56a-4e5e-b1f7-2f2cc86dc4b3",
   "metadata": {},
   "outputs": [
    {
     "data": {
      "text/html": [
       "<div>\n",
       "<style scoped>\n",
       "    .dataframe tbody tr th:only-of-type {\n",
       "        vertical-align: middle;\n",
       "    }\n",
       "\n",
       "    .dataframe tbody tr th {\n",
       "        vertical-align: top;\n",
       "    }\n",
       "\n",
       "    .dataframe thead th {\n",
       "        text-align: right;\n",
       "    }\n",
       "</style>\n",
       "<table border=\"1\" class=\"dataframe\">\n",
       "  <thead>\n",
       "    <tr style=\"text-align: right;\">\n",
       "      <th></th>\n",
       "      <th>PassengerId</th>\n",
       "      <th>Pclass</th>\n",
       "      <th>Name</th>\n",
       "      <th>Sex</th>\n",
       "      <th>Age</th>\n",
       "      <th>SibSp</th>\n",
       "      <th>Parch</th>\n",
       "      <th>Ticket</th>\n",
       "      <th>Fare</th>\n",
       "      <th>Embarked</th>\n",
       "      <th>Survived</th>\n",
       "    </tr>\n",
       "  </thead>\n",
       "  <tbody>\n",
       "    <tr>\n",
       "      <th>0</th>\n",
       "      <td>1</td>\n",
       "      <td>3</td>\n",
       "      <td>Allison Hill</td>\n",
       "      <td>male</td>\n",
       "      <td>17</td>\n",
       "      <td>4</td>\n",
       "      <td>2</td>\n",
       "      <td>43d75413-a939-4bd1-a516-b0d47d3572cc</td>\n",
       "      <td>144.08</td>\n",
       "      <td>Q</td>\n",
       "      <td>1</td>\n",
       "    </tr>\n",
       "    <tr>\n",
       "      <th>1</th>\n",
       "      <td>2</td>\n",
       "      <td>1</td>\n",
       "      <td>Noah Rhodes</td>\n",
       "      <td>male</td>\n",
       "      <td>60</td>\n",
       "      <td>2</td>\n",
       "      <td>2</td>\n",
       "      <td>6334fa2a-8b4b-47e7-a451-5ae01754bf08</td>\n",
       "      <td>249.04</td>\n",
       "      <td>S</td>\n",
       "      <td>0</td>\n",
       "    </tr>\n",
       "    <tr>\n",
       "      <th>2</th>\n",
       "      <td>3</td>\n",
       "      <td>3</td>\n",
       "      <td>Angie Henderson</td>\n",
       "      <td>male</td>\n",
       "      <td>64</td>\n",
       "      <td>0</td>\n",
       "      <td>0</td>\n",
       "      <td>61a66444-e2af-4629-9efb-336e2f546033</td>\n",
       "      <td>50.31</td>\n",
       "      <td>Q</td>\n",
       "      <td>1</td>\n",
       "    </tr>\n",
       "    <tr>\n",
       "      <th>3</th>\n",
       "      <td>4</td>\n",
       "      <td>3</td>\n",
       "      <td>Daniel Wagner</td>\n",
       "      <td>male</td>\n",
       "      <td>35</td>\n",
       "      <td>4</td>\n",
       "      <td>0</td>\n",
       "      <td>0b6c03c8-721e-4419-afc3-e6495e911b91</td>\n",
       "      <td>235.20</td>\n",
       "      <td>C</td>\n",
       "      <td>1</td>\n",
       "    </tr>\n",
       "    <tr>\n",
       "      <th>4</th>\n",
       "      <td>5</td>\n",
       "      <td>1</td>\n",
       "      <td>Cristian Santos</td>\n",
       "      <td>female</td>\n",
       "      <td>70</td>\n",
       "      <td>0</td>\n",
       "      <td>3</td>\n",
       "      <td>436e3c49-770e-49db-b092-d40143675d58</td>\n",
       "      <td>160.17</td>\n",
       "      <td>C</td>\n",
       "      <td>1</td>\n",
       "    </tr>\n",
       "  </tbody>\n",
       "</table>\n",
       "</div>"
      ],
      "text/plain": [
       "   PassengerId  Pclass             Name     Sex  Age  SibSp  Parch  \\\n",
       "0            1       3     Allison Hill    male   17      4      2   \n",
       "1            2       1      Noah Rhodes    male   60      2      2   \n",
       "2            3       3  Angie Henderson    male   64      0      0   \n",
       "3            4       3    Daniel Wagner    male   35      4      0   \n",
       "4            5       1  Cristian Santos  female   70      0      3   \n",
       "\n",
       "                                 Ticket    Fare Embarked  Survived  \n",
       "0  43d75413-a939-4bd1-a516-b0d47d3572cc  144.08        Q         1  \n",
       "1  6334fa2a-8b4b-47e7-a451-5ae01754bf08  249.04        S         0  \n",
       "2  61a66444-e2af-4629-9efb-336e2f546033   50.31        Q         1  \n",
       "3  0b6c03c8-721e-4419-afc3-e6495e911b91  235.20        C         1  \n",
       "4  436e3c49-770e-49db-b092-d40143675d58  160.17        C         1  "
      ]
     },
     "execution_count": 82,
     "metadata": {},
     "output_type": "execute_result"
    }
   ],
   "source": [
    "import pandas as pd\n",
    "import numpy as np\n",
    "df = pd.read_csv(\"Titanic data set.csv\")\n",
    "df.head()"
   ]
  },
  {
   "cell_type": "code",
   "execution_count": null,
   "id": "72a6b331-7abb-41a3-9eee-b09ec01832b4",
   "metadata": {},
   "outputs": [],
   "source": []
  },
  {
   "cell_type": "code",
   "execution_count": null,
   "id": "c21d1b13-ad89-43a0-a738-90d1d000c487",
   "metadata": {},
   "outputs": [],
   "source": []
  },
  {
   "cell_type": "markdown",
   "id": "6a0e8420-bbfd-4d82-8629-cd89d5189af7",
   "metadata": {},
   "source": [
    "### Dropping Unnecessary Columns\n",
    "\n",
    "This operation removes irrelevant features from the DataFrame, which helps in simplifying the dataset for analysis and modeling."
   ]
  },
  {
   "cell_type": "code",
   "execution_count": 83,
   "id": "0816eeeb-5520-4da0-94eb-749bee1013e7",
   "metadata": {},
   "outputs": [
    {
     "data": {
      "text/html": [
       "<div>\n",
       "<style scoped>\n",
       "    .dataframe tbody tr th:only-of-type {\n",
       "        vertical-align: middle;\n",
       "    }\n",
       "\n",
       "    .dataframe tbody tr th {\n",
       "        vertical-align: top;\n",
       "    }\n",
       "\n",
       "    .dataframe thead th {\n",
       "        text-align: right;\n",
       "    }\n",
       "</style>\n",
       "<table border=\"1\" class=\"dataframe\">\n",
       "  <thead>\n",
       "    <tr style=\"text-align: right;\">\n",
       "      <th></th>\n",
       "      <th>Pclass</th>\n",
       "      <th>Sex</th>\n",
       "      <th>Age</th>\n",
       "      <th>Fare</th>\n",
       "      <th>Survived</th>\n",
       "    </tr>\n",
       "  </thead>\n",
       "  <tbody>\n",
       "    <tr>\n",
       "      <th>0</th>\n",
       "      <td>3</td>\n",
       "      <td>male</td>\n",
       "      <td>17</td>\n",
       "      <td>144.08</td>\n",
       "      <td>1</td>\n",
       "    </tr>\n",
       "    <tr>\n",
       "      <th>1</th>\n",
       "      <td>1</td>\n",
       "      <td>male</td>\n",
       "      <td>60</td>\n",
       "      <td>249.04</td>\n",
       "      <td>0</td>\n",
       "    </tr>\n",
       "    <tr>\n",
       "      <th>2</th>\n",
       "      <td>3</td>\n",
       "      <td>male</td>\n",
       "      <td>64</td>\n",
       "      <td>50.31</td>\n",
       "      <td>1</td>\n",
       "    </tr>\n",
       "    <tr>\n",
       "      <th>3</th>\n",
       "      <td>3</td>\n",
       "      <td>male</td>\n",
       "      <td>35</td>\n",
       "      <td>235.20</td>\n",
       "      <td>1</td>\n",
       "    </tr>\n",
       "    <tr>\n",
       "      <th>4</th>\n",
       "      <td>1</td>\n",
       "      <td>female</td>\n",
       "      <td>70</td>\n",
       "      <td>160.17</td>\n",
       "      <td>1</td>\n",
       "    </tr>\n",
       "  </tbody>\n",
       "</table>\n",
       "</div>"
      ],
      "text/plain": [
       "   Pclass     Sex  Age    Fare  Survived\n",
       "0       3    male   17  144.08         1\n",
       "1       1    male   60  249.04         0\n",
       "2       3    male   64   50.31         1\n",
       "3       3    male   35  235.20         1\n",
       "4       1  female   70  160.17         1"
      ]
     },
     "execution_count": 83,
     "metadata": {},
     "output_type": "execute_result"
    }
   ],
   "source": [
    "df.drop(['PassengerId','Name','SibSp','Parch','Ticket','Embarked'],axis='columns',inplace=True)\n",
    "df.head()"
   ]
  },
  {
   "cell_type": "code",
   "execution_count": 84,
   "id": "75878866-a13c-4c43-86d1-248d307c5267",
   "metadata": {},
   "outputs": [
    {
     "data": {
      "text/html": [
       "<div>\n",
       "<style scoped>\n",
       "    .dataframe tbody tr th:only-of-type {\n",
       "        vertical-align: middle;\n",
       "    }\n",
       "\n",
       "    .dataframe tbody tr th {\n",
       "        vertical-align: top;\n",
       "    }\n",
       "\n",
       "    .dataframe thead th {\n",
       "        text-align: right;\n",
       "    }\n",
       "</style>\n",
       "<table border=\"1\" class=\"dataframe\">\n",
       "  <thead>\n",
       "    <tr style=\"text-align: right;\">\n",
       "      <th></th>\n",
       "      <th>Pclass</th>\n",
       "      <th>Sex</th>\n",
       "      <th>Age</th>\n",
       "      <th>Fare</th>\n",
       "      <th>Survived</th>\n",
       "    </tr>\n",
       "  </thead>\n",
       "  <tbody>\n",
       "    <tr>\n",
       "      <th>0</th>\n",
       "      <td>3</td>\n",
       "      <td>male</td>\n",
       "      <td>17</td>\n",
       "      <td>144.08</td>\n",
       "      <td>1</td>\n",
       "    </tr>\n",
       "    <tr>\n",
       "      <th>1</th>\n",
       "      <td>1</td>\n",
       "      <td>male</td>\n",
       "      <td>60</td>\n",
       "      <td>249.04</td>\n",
       "      <td>0</td>\n",
       "    </tr>\n",
       "    <tr>\n",
       "      <th>2</th>\n",
       "      <td>3</td>\n",
       "      <td>male</td>\n",
       "      <td>64</td>\n",
       "      <td>50.31</td>\n",
       "      <td>1</td>\n",
       "    </tr>\n",
       "    <tr>\n",
       "      <th>3</th>\n",
       "      <td>3</td>\n",
       "      <td>male</td>\n",
       "      <td>35</td>\n",
       "      <td>235.20</td>\n",
       "      <td>1</td>\n",
       "    </tr>\n",
       "    <tr>\n",
       "      <th>4</th>\n",
       "      <td>1</td>\n",
       "      <td>female</td>\n",
       "      <td>70</td>\n",
       "      <td>160.17</td>\n",
       "      <td>1</td>\n",
       "    </tr>\n",
       "  </tbody>\n",
       "</table>\n",
       "</div>"
      ],
      "text/plain": [
       "   Pclass     Sex  Age    Fare  Survived\n",
       "0       3    male   17  144.08         1\n",
       "1       1    male   60  249.04         0\n",
       "2       3    male   64   50.31         1\n",
       "3       3    male   35  235.20         1\n",
       "4       1  female   70  160.17         1"
      ]
     },
     "execution_count": 84,
     "metadata": {},
     "output_type": "execute_result"
    }
   ],
   "source": [
    "df.head()"
   ]
  },
  {
   "cell_type": "code",
   "execution_count": null,
   "id": "932c3998-fb7d-4d61-a42f-500c71b5c130",
   "metadata": {},
   "outputs": [],
   "source": []
  },
  {
   "cell_type": "code",
   "execution_count": null,
   "id": "72446b24-bf0f-445b-8a74-0da61417e669",
   "metadata": {},
   "outputs": [],
   "source": []
  },
  {
   "cell_type": "markdown",
   "id": "318f69af-2c02-433c-9b86-891e25c8282a",
   "metadata": {},
   "source": [
    "#### Convert categorical variables to numeric"
   ]
  },
  {
   "cell_type": "code",
   "execution_count": 85,
   "id": "b6640c70-ed7f-430b-b56b-e127a1c9a466",
   "metadata": {},
   "outputs": [],
   "source": [
    "df['Sex'] = df['Sex'].map({'male': 0, 'female': 1})"
   ]
  },
  {
   "cell_type": "code",
   "execution_count": 86,
   "id": "59fae921-0a6b-4fa7-bef1-9c0b0efafb75",
   "metadata": {},
   "outputs": [
    {
     "data": {
      "text/html": [
       "<div>\n",
       "<style scoped>\n",
       "    .dataframe tbody tr th:only-of-type {\n",
       "        vertical-align: middle;\n",
       "    }\n",
       "\n",
       "    .dataframe tbody tr th {\n",
       "        vertical-align: top;\n",
       "    }\n",
       "\n",
       "    .dataframe thead th {\n",
       "        text-align: right;\n",
       "    }\n",
       "</style>\n",
       "<table border=\"1\" class=\"dataframe\">\n",
       "  <thead>\n",
       "    <tr style=\"text-align: right;\">\n",
       "      <th></th>\n",
       "      <th>Pclass</th>\n",
       "      <th>Sex</th>\n",
       "      <th>Age</th>\n",
       "      <th>Fare</th>\n",
       "      <th>Survived</th>\n",
       "    </tr>\n",
       "  </thead>\n",
       "  <tbody>\n",
       "    <tr>\n",
       "      <th>0</th>\n",
       "      <td>3</td>\n",
       "      <td>0</td>\n",
       "      <td>17</td>\n",
       "      <td>144.08</td>\n",
       "      <td>1</td>\n",
       "    </tr>\n",
       "    <tr>\n",
       "      <th>1</th>\n",
       "      <td>1</td>\n",
       "      <td>0</td>\n",
       "      <td>60</td>\n",
       "      <td>249.04</td>\n",
       "      <td>0</td>\n",
       "    </tr>\n",
       "    <tr>\n",
       "      <th>2</th>\n",
       "      <td>3</td>\n",
       "      <td>0</td>\n",
       "      <td>64</td>\n",
       "      <td>50.31</td>\n",
       "      <td>1</td>\n",
       "    </tr>\n",
       "    <tr>\n",
       "      <th>3</th>\n",
       "      <td>3</td>\n",
       "      <td>0</td>\n",
       "      <td>35</td>\n",
       "      <td>235.20</td>\n",
       "      <td>1</td>\n",
       "    </tr>\n",
       "    <tr>\n",
       "      <th>4</th>\n",
       "      <td>1</td>\n",
       "      <td>1</td>\n",
       "      <td>70</td>\n",
       "      <td>160.17</td>\n",
       "      <td>1</td>\n",
       "    </tr>\n",
       "  </tbody>\n",
       "</table>\n",
       "</div>"
      ],
      "text/plain": [
       "   Pclass  Sex  Age    Fare  Survived\n",
       "0       3    0   17  144.08         1\n",
       "1       1    0   60  249.04         0\n",
       "2       3    0   64   50.31         1\n",
       "3       3    0   35  235.20         1\n",
       "4       1    1   70  160.17         1"
      ]
     },
     "execution_count": 86,
     "metadata": {},
     "output_type": "execute_result"
    }
   ],
   "source": [
    "df.head()"
   ]
  },
  {
   "cell_type": "code",
   "execution_count": null,
   "id": "c7f1f1ab-c2e5-425f-9b3a-b8f90a0f7f02",
   "metadata": {},
   "outputs": [],
   "source": []
  },
  {
   "cell_type": "markdown",
   "id": "c334e874-8e68-4003-a0fd-fb1f27cb605a",
   "metadata": {},
   "source": [
    "### Handling Missing Values\r\n",
    "\r\n",
    "This operation fills in missing values in the dataset to ensure all features are complete for modeling.\r\n",
    "\r\n",
    "**Details:**\r\n",
    "- **Age and Fare**: Missing values are filled with the **mean** of their respective columns.\r\n",
    "- **Pclass**: Missing values are filled with the **mode** (most common value) of the `Pclass` column.\r\n",
    "- **Sex**: Missing values are filled with the **mode** of the `Sex` column.\r\n",
    "\r\n",
    "This step helps to maintain the integrity of the dataset and prevent errors during model training.\r\n"
   ]
  },
  {
   "cell_type": "code",
   "execution_count": 87,
   "id": "cebe6e98-3676-4d30-9a4f-3c245eedb406",
   "metadata": {},
   "outputs": [],
   "source": [
    "df[['Age','Fare']] = df[['Age', 'Fare']].fillna(df[['Age', 'Fare']].mean())\n"
   ]
  },
  {
   "cell_type": "code",
   "execution_count": 92,
   "id": "4d212877-1603-4469-868f-dc29ff7b543c",
   "metadata": {},
   "outputs": [],
   "source": [
    "df['Pclass'] = df['Pclass'].fillna(df['Pclass'].mode()[0])\n",
    "df['Sex'] = df['Sex'].fillna(df['Sex'].mode()[0])"
   ]
  },
  {
   "cell_type": "code",
   "execution_count": null,
   "id": "d8908d2a-e462-4a6c-82aa-2ea5aa5e73c2",
   "metadata": {},
   "outputs": [],
   "source": []
  },
  {
   "cell_type": "code",
   "execution_count": null,
   "id": "1eaf4b78-ac1d-4fb4-bba1-47d5ac42094e",
   "metadata": {},
   "outputs": [],
   "source": []
  },
  {
   "cell_type": "markdown",
   "id": "3ad1c017-fdec-414e-b7cc-8e0f4b1341f3",
   "metadata": {},
   "source": [
    "### Splitting the Data\r\n",
    "\r\n",
    "This operation divides the dataset into training and testing sets for model evaluation.\r\n",
    "\r\n",
    "**Details:**\r\n",
    "- **Features (X)**: Selected columns are `Pclass`, `Sex`, `Age`, and `Fare`.\r\n",
    "- **Target (y)**: The target variable is `Survived`.\r\n",
    "- **Train-Test Split**: The data is split into training (80%) and testing (20%) sets using a random state for reproducibility.\r\n",
    "\r\n",
    "This step is crucial for assessing the model's performance on unseen data.\r\n"
   ]
  },
  {
   "cell_type": "code",
   "execution_count": 109,
   "id": "7b76eb1d-75ef-453a-85ab-faabe6a6a71e",
   "metadata": {},
   "outputs": [],
   "source": [
    "# Split the data\n",
    "from sklearn.model_selection import train_test_split\n",
    "# Split the data\n",
    "X = df[['Pclass', 'Sex', 'Age', 'Fare']]\n",
    "y = df['Survived']\n",
    "X_train, X_test, y_train, y_test = train_test_split(X, y, test_size=0.2, random_state=42)"
   ]
  },
  {
   "cell_type": "code",
   "execution_count": null,
   "id": "f5099e03-96a0-4db6-8fdc-6a97056e31bd",
   "metadata": {},
   "outputs": [],
   "source": []
  },
  {
   "cell_type": "code",
   "execution_count": 110,
   "id": "ba479592-646e-49cc-be67-dc0fb406df30",
   "metadata": {},
   "outputs": [
    {
     "data": {
      "text/plain": [
       "521    0\n",
       "737    0\n",
       "740    1\n",
       "660    0\n",
       "411    1\n",
       "678    1\n",
       "626    1\n",
       "513    0\n",
       "859    1\n",
       "136    1\n",
       "Name: Survived, dtype: int64"
      ]
     },
     "execution_count": 110,
     "metadata": {},
     "output_type": "execute_result"
    }
   ],
   "source": [
    "y_test[0:10]"
   ]
  },
  {
   "cell_type": "code",
   "execution_count": 111,
   "id": "08391304-9269-40e5-aecf-a4d9e45116f1",
   "metadata": {},
   "outputs": [
    {
     "data": {
      "text/html": [
       "<div>\n",
       "<style scoped>\n",
       "    .dataframe tbody tr th:only-of-type {\n",
       "        vertical-align: middle;\n",
       "    }\n",
       "\n",
       "    .dataframe tbody tr th {\n",
       "        vertical-align: top;\n",
       "    }\n",
       "\n",
       "    .dataframe thead th {\n",
       "        text-align: right;\n",
       "    }\n",
       "</style>\n",
       "<table border=\"1\" class=\"dataframe\">\n",
       "  <thead>\n",
       "    <tr style=\"text-align: right;\">\n",
       "      <th></th>\n",
       "      <th>Pclass</th>\n",
       "      <th>Sex</th>\n",
       "      <th>Age</th>\n",
       "      <th>Fare</th>\n",
       "    </tr>\n",
       "  </thead>\n",
       "  <tbody>\n",
       "    <tr>\n",
       "      <th>521</th>\n",
       "      <td>1</td>\n",
       "      <td>1</td>\n",
       "      <td>78</td>\n",
       "      <td>145.20</td>\n",
       "    </tr>\n",
       "    <tr>\n",
       "      <th>737</th>\n",
       "      <td>1</td>\n",
       "      <td>1</td>\n",
       "      <td>65</td>\n",
       "      <td>454.93</td>\n",
       "    </tr>\n",
       "    <tr>\n",
       "      <th>740</th>\n",
       "      <td>2</td>\n",
       "      <td>0</td>\n",
       "      <td>45</td>\n",
       "      <td>80.30</td>\n",
       "    </tr>\n",
       "    <tr>\n",
       "      <th>660</th>\n",
       "      <td>3</td>\n",
       "      <td>1</td>\n",
       "      <td>14</td>\n",
       "      <td>30.37</td>\n",
       "    </tr>\n",
       "    <tr>\n",
       "      <th>411</th>\n",
       "      <td>2</td>\n",
       "      <td>1</td>\n",
       "      <td>48</td>\n",
       "      <td>29.73</td>\n",
       "    </tr>\n",
       "    <tr>\n",
       "      <th>678</th>\n",
       "      <td>1</td>\n",
       "      <td>1</td>\n",
       "      <td>32</td>\n",
       "      <td>20.26</td>\n",
       "    </tr>\n",
       "    <tr>\n",
       "      <th>626</th>\n",
       "      <td>3</td>\n",
       "      <td>0</td>\n",
       "      <td>22</td>\n",
       "      <td>344.27</td>\n",
       "    </tr>\n",
       "    <tr>\n",
       "      <th>513</th>\n",
       "      <td>1</td>\n",
       "      <td>0</td>\n",
       "      <td>37</td>\n",
       "      <td>424.97</td>\n",
       "    </tr>\n",
       "    <tr>\n",
       "      <th>859</th>\n",
       "      <td>1</td>\n",
       "      <td>0</td>\n",
       "      <td>12</td>\n",
       "      <td>249.93</td>\n",
       "    </tr>\n",
       "    <tr>\n",
       "      <th>136</th>\n",
       "      <td>2</td>\n",
       "      <td>0</td>\n",
       "      <td>46</td>\n",
       "      <td>389.87</td>\n",
       "    </tr>\n",
       "  </tbody>\n",
       "</table>\n",
       "</div>"
      ],
      "text/plain": [
       "     Pclass  Sex  Age    Fare\n",
       "521       1    1   78  145.20\n",
       "737       1    1   65  454.93\n",
       "740       2    0   45   80.30\n",
       "660       3    1   14   30.37\n",
       "411       2    1   48   29.73\n",
       "678       1    1   32   20.26\n",
       "626       3    0   22  344.27\n",
       "513       1    0   37  424.97\n",
       "859       1    0   12  249.93\n",
       "136       2    0   46  389.87"
      ]
     },
     "execution_count": 111,
     "metadata": {},
     "output_type": "execute_result"
    }
   ],
   "source": [
    "X_test[0:10]"
   ]
  },
  {
   "cell_type": "code",
   "execution_count": null,
   "id": "101a79ef-f7e5-4731-b002-f0356b0cef97",
   "metadata": {},
   "outputs": [],
   "source": []
  },
  {
   "cell_type": "code",
   "execution_count": null,
   "id": "1d49635d-4318-4e07-a4e6-1ba9026c3e88",
   "metadata": {},
   "outputs": [],
   "source": []
  },
  {
   "cell_type": "markdown",
   "id": "cf2be758-b84d-4157-9691-50800d7d1804",
   "metadata": {},
   "source": [
    "### Initializing and Training the Model\r\n",
    "\r\n",
    "This operation sets up the Gaussian Naive Bayes model and trains it using the training dataset.\r\n",
    "\r\n",
    "**Details:**\r\n",
    "- **Model**: `GaussianNB()` is used, which is suitable for classification tasks involving normally distributed data.\r\n",
    "- **Training**: The model is trained with the training features (`X_train`) and the corresponding target values (`y_train`).\r\n",
    "\r\n",
    "This step prepares the model to make predictions based on the patterns learned from the training data.\r\n"
   ]
  },
  {
   "cell_type": "code",
   "execution_count": 112,
   "id": "ac371812-99bd-4707-8602-2a81d5a648cd",
   "metadata": {},
   "outputs": [
    {
     "data": {
      "text/html": [
       "<style>#sk-container-id-7 {color: black;background-color: white;}#sk-container-id-7 pre{padding: 0;}#sk-container-id-7 div.sk-toggleable {background-color: white;}#sk-container-id-7 label.sk-toggleable__label {cursor: pointer;display: block;width: 100%;margin-bottom: 0;padding: 0.3em;box-sizing: border-box;text-align: center;}#sk-container-id-7 label.sk-toggleable__label-arrow:before {content: \"▸\";float: left;margin-right: 0.25em;color: #696969;}#sk-container-id-7 label.sk-toggleable__label-arrow:hover:before {color: black;}#sk-container-id-7 div.sk-estimator:hover label.sk-toggleable__label-arrow:before {color: black;}#sk-container-id-7 div.sk-toggleable__content {max-height: 0;max-width: 0;overflow: hidden;text-align: left;background-color: #f0f8ff;}#sk-container-id-7 div.sk-toggleable__content pre {margin: 0.2em;color: black;border-radius: 0.25em;background-color: #f0f8ff;}#sk-container-id-7 input.sk-toggleable__control:checked~div.sk-toggleable__content {max-height: 200px;max-width: 100%;overflow: auto;}#sk-container-id-7 input.sk-toggleable__control:checked~label.sk-toggleable__label-arrow:before {content: \"▾\";}#sk-container-id-7 div.sk-estimator input.sk-toggleable__control:checked~label.sk-toggleable__label {background-color: #d4ebff;}#sk-container-id-7 div.sk-label input.sk-toggleable__control:checked~label.sk-toggleable__label {background-color: #d4ebff;}#sk-container-id-7 input.sk-hidden--visually {border: 0;clip: rect(1px 1px 1px 1px);clip: rect(1px, 1px, 1px, 1px);height: 1px;margin: -1px;overflow: hidden;padding: 0;position: absolute;width: 1px;}#sk-container-id-7 div.sk-estimator {font-family: monospace;background-color: #f0f8ff;border: 1px dotted black;border-radius: 0.25em;box-sizing: border-box;margin-bottom: 0.5em;}#sk-container-id-7 div.sk-estimator:hover {background-color: #d4ebff;}#sk-container-id-7 div.sk-parallel-item::after {content: \"\";width: 100%;border-bottom: 1px solid gray;flex-grow: 1;}#sk-container-id-7 div.sk-label:hover label.sk-toggleable__label {background-color: #d4ebff;}#sk-container-id-7 div.sk-serial::before {content: \"\";position: absolute;border-left: 1px solid gray;box-sizing: border-box;top: 0;bottom: 0;left: 50%;z-index: 0;}#sk-container-id-7 div.sk-serial {display: flex;flex-direction: column;align-items: center;background-color: white;padding-right: 0.2em;padding-left: 0.2em;position: relative;}#sk-container-id-7 div.sk-item {position: relative;z-index: 1;}#sk-container-id-7 div.sk-parallel {display: flex;align-items: stretch;justify-content: center;background-color: white;position: relative;}#sk-container-id-7 div.sk-item::before, #sk-container-id-7 div.sk-parallel-item::before {content: \"\";position: absolute;border-left: 1px solid gray;box-sizing: border-box;top: 0;bottom: 0;left: 50%;z-index: -1;}#sk-container-id-7 div.sk-parallel-item {display: flex;flex-direction: column;z-index: 1;position: relative;background-color: white;}#sk-container-id-7 div.sk-parallel-item:first-child::after {align-self: flex-end;width: 50%;}#sk-container-id-7 div.sk-parallel-item:last-child::after {align-self: flex-start;width: 50%;}#sk-container-id-7 div.sk-parallel-item:only-child::after {width: 0;}#sk-container-id-7 div.sk-dashed-wrapped {border: 1px dashed gray;margin: 0 0.4em 0.5em 0.4em;box-sizing: border-box;padding-bottom: 0.4em;background-color: white;}#sk-container-id-7 div.sk-label label {font-family: monospace;font-weight: bold;display: inline-block;line-height: 1.2em;}#sk-container-id-7 div.sk-label-container {text-align: center;}#sk-container-id-7 div.sk-container {/* jupyter's `normalize.less` sets `[hidden] { display: none; }` but bootstrap.min.css set `[hidden] { display: none !important; }` so we also need the `!important` here to be able to override the default hidden behavior on the sphinx rendered scikit-learn.org. See: https://github.com/scikit-learn/scikit-learn/issues/21755 */display: inline-block !important;position: relative;}#sk-container-id-7 div.sk-text-repr-fallback {display: none;}</style><div id=\"sk-container-id-7\" class=\"sk-top-container\"><div class=\"sk-text-repr-fallback\"><pre>GaussianNB()</pre><b>In a Jupyter environment, please rerun this cell to show the HTML representation or trust the notebook. <br />On GitHub, the HTML representation is unable to render, please try loading this page with nbviewer.org.</b></div><div class=\"sk-container\" hidden><div class=\"sk-item\"><div class=\"sk-estimator sk-toggleable\"><input class=\"sk-toggleable__control sk-hidden--visually\" id=\"sk-estimator-id-7\" type=\"checkbox\" checked><label for=\"sk-estimator-id-7\" class=\"sk-toggleable__label sk-toggleable__label-arrow\">GaussianNB</label><div class=\"sk-toggleable__content\"><pre>GaussianNB()</pre></div></div></div></div></div>"
      ],
      "text/plain": [
       "GaussianNB()"
      ]
     },
     "execution_count": 112,
     "metadata": {},
     "output_type": "execute_result"
    }
   ],
   "source": [
    "# Initialize and train the model\n",
    "model = GaussianNB()\n",
    "model.fit(X_train, y_train)"
   ]
  },
  {
   "cell_type": "code",
   "execution_count": 113,
   "id": "8cc2c859-3982-4ae3-8bca-2be345386c39",
   "metadata": {},
   "outputs": [
    {
     "data": {
      "text/plain": [
       "array([0, 0, 0, 0, 0, 0, 1, 0, 1, 1], dtype=int64)"
      ]
     },
     "execution_count": 113,
     "metadata": {},
     "output_type": "execute_result"
    }
   ],
   "source": [
    "# Make predictions\n",
    "model.predict(X_test[0:10])"
   ]
  },
  {
   "cell_type": "markdown",
   "id": "92b52348-da13-463e-92d5-41faf4b1bbbb",
   "metadata": {},
   "source": [
    "### Understanding Predictions from the Titanic Dataset\r\n",
    "\r\n",
    "After training the Gaussian Naive Bayes model, predictions were made on the test dataset.\r\n",
    "\r\n",
    "**Predictions:**\r\n",
    "- Output: `array([0, 0, 0, 0, 0, 0, 1, 0, 1, 1], dtype=int64)`\r\n",
    "\r\n",
    "**Interpretation:**\r\n",
    "- Each value in the array corresponds to a passenger in the test set, where:\r\n",
    "  - **0** indicates that the passenger did **not survive**.\r\n",
    "  - **1** indicates that the passenger **survived**.\r\n",
    "  \r\n",
    "In this case, the model predicts that the first six passengers did not survive, while the last four passengers did survive. This binary classification helps to assess the survival likelihood based on the features provided, such as passenger class, age, sex, and fare.\r\n"
   ]
  },
  {
   "cell_type": "code",
   "execution_count": null,
   "id": "6fef40a6-6d37-4745-b990-9005dc5e2639",
   "metadata": {},
   "outputs": [],
   "source": []
  },
  {
   "cell_type": "code",
   "execution_count": null,
   "id": "fdce13bd-5ac3-4028-8ab7-86a7f1588753",
   "metadata": {},
   "outputs": [],
   "source": []
  },
  {
   "cell_type": "code",
   "execution_count": 114,
   "id": "b4fd1dcd-6efa-46f4-b10e-c446d5038892",
   "metadata": {},
   "outputs": [
    {
     "name": "stdout",
     "output_type": "stream",
     "text": [
      "Accuracy: 0.455\n"
     ]
    }
   ],
   "source": [
    "# Evaluate the model\n",
    "accuracy = accuracy_score(y_test, y_pred)\n",
    "print(f'Accuracy: {accuracy:.3f}')"
   ]
  },
  {
   "cell_type": "code",
   "execution_count": 115,
   "id": "8e8575ec-acd9-4a27-90eb-e7e6f85a39a9",
   "metadata": {},
   "outputs": [
    {
     "data": {
      "text/plain": [
       "array([[0.51365293, 0.48634707],\n",
       "       [0.52805038, 0.47194962],\n",
       "       [0.51906068, 0.48093932],\n",
       "       [0.53527401, 0.46472599],\n",
       "       [0.5416603 , 0.4583397 ],\n",
       "       [0.54359921, 0.45640079],\n",
       "       [0.48301363, 0.51698637],\n",
       "       [0.50708723, 0.49291277],\n",
       "       [0.47523716, 0.52476284],\n",
       "       [0.49719877, 0.50280123]])"
      ]
     },
     "execution_count": 115,
     "metadata": {},
     "output_type": "execute_result"
    }
   ],
   "source": [
    "model.predict_proba(X_test[:10])"
   ]
  },
  {
   "cell_type": "markdown",
   "id": "af1c3fcd-1537-4de4-a7b9-042fde4b5e50",
   "metadata": {},
   "source": [
    "### Analysis of Predicted Probabilities\n",
    "\n",
    "The Gaussian Naive Bayes model outputs \n",
    "\n",
    "Key Insights:\n",
    "\n",
    "Each row presents the probabilities of not surviving (first value) and surviving (second value).\n",
    "For instance, the first passenger has a 51.37% chance of not surviving and a 48.63% chance of survival.\n",
    "Probabilities close to 0.5 indicate uncertainty in the model’s predictions, while values significantly higher or lower suggest stronger confidence in the outcome.\n",
    "\n",
    "\n",
    "This probability output allows for a better understanding of the model's confidence in its predictions, facilitating more informed decision-making regarding passenger survival assessment."
   ]
  },
  {
   "cell_type": "code",
   "execution_count": null,
   "id": "a1782ce7-4597-496d-bb0d-36b6f5164f51",
   "metadata": {},
   "outputs": [],
   "source": []
  },
  {
   "cell_type": "code",
   "execution_count": 116,
   "id": "d7c65e13-850d-41da-be23-50a7509faced",
   "metadata": {},
   "outputs": [
    {
     "data": {
      "text/plain": [
       "array([0.50625, 0.5125 , 0.5    , 0.53125, 0.475  ])"
      ]
     },
     "execution_count": 116,
     "metadata": {},
     "output_type": "execute_result"
    }
   ],
   "source": [
    "from sklearn.model_selection import cross_val_score\n",
    "cross_val_score(GaussianNB(),X_train, y_train, cv=5)"
   ]
  },
  {
   "cell_type": "markdown",
   "id": "0c40c895-8a44-457d-a022-83bfa3e2e2b1",
   "metadata": {},
   "source": [
    "### Cross-Validation Analysis\n",
    "\n",
    "To evaluate the performance of the Gaussian Naive Bayes model, we performed cross-validation using 5 folds on the training data.\n",
    "\n",
    "Key Insights:\n",
    "\n",
    "The cross-validation scores represent the accuracy of the model on different subsets of the training data.\n",
    "The scores range from approximately 0.475 to 0.531, indicating a variable model performance across the folds.\n",
    "\n",
    "\n",
    "The average accuracy across the 5 folds is around 50.0%, suggesting that the model has limited predictive power in this context. This could indicate the need for feature engineering, model tuning, or consideration of different algorithms to improve performance."
   ]
  },
  {
   "cell_type": "code",
   "execution_count": null,
   "id": "cb2898f4-f478-4264-b3d0-e4a34da4f8b6",
   "metadata": {},
   "outputs": [],
   "source": []
  },
  {
   "cell_type": "code",
   "execution_count": null,
   "id": "1bb1195a-46a1-4ce3-b598-5240e8ad2eec",
   "metadata": {},
   "outputs": [],
   "source": []
  },
  {
   "cell_type": "markdown",
   "id": "a4832b2f-6463-41f0-8ca9-4077a84ffcf8",
   "metadata": {},
   "source": [
    "### Conclusion\r\n",
    "\r\n",
    "In this project, we utilized the Titanic dataset to predict passenger survival using the Gaussian Naive Bayes algorithm. The following key points summarize our findings:\r\n",
    "\r\n",
    "- **Data Preparation**: We successfully cleaned the dataset by dropping irrelevant features and handling missing values, ensuring a robust foundation for analysis.\r\n",
    "  \r\n",
    "- **Model Training**: After splitting the data into training and testing sets, we trained the model and made predictions, achieving a survival prediction output.\r\n",
    "\r\n",
    "- **Probability Assessment**: The model also provided predicted probabilities, which offered insights into the confidence of each prediction.\r\n",
    "\r\n",
    "- **Cross-Validation Performance**: The cross-validation scores indicated a modest accuracy of around 50%, highlighting the need for further refinement in feature selection or the exploration of more complex algorithms.\r\n",
    "\r\n",
    "**Final Thoughts**: The project demonstrated the application of a Bayesian machine learning method in a real-world dataset, providing valuable insights into the factors affecting survival during the Titanic disaster. Future work could involve enhancing model performance through additional feature engineering and experimenting with different classification algorithms.\r\n"
   ]
  },
  {
   "cell_type": "code",
   "execution_count": null,
   "id": "63892a5d-2e70-4964-99f9-75de8ac5db53",
   "metadata": {},
   "outputs": [],
   "source": []
  },
  {
   "cell_type": "code",
   "execution_count": null,
   "id": "4125c4f1-497c-4ccb-a63d-2b104e2f8b9b",
   "metadata": {},
   "outputs": [],
   "source": []
  },
  {
   "cell_type": "code",
   "execution_count": null,
   "id": "c5094b97-a8d3-4083-9773-e147db42a010",
   "metadata": {},
   "outputs": [],
   "source": []
  },
  {
   "cell_type": "code",
   "execution_count": null,
   "id": "92093f6c-cd98-4bcf-8907-a8b3671cf413",
   "metadata": {},
   "outputs": [],
   "source": []
  }
 ],
 "metadata": {
  "kernelspec": {
   "display_name": "Python 3 (ipykernel)",
   "language": "python",
   "name": "python3"
  },
  "language_info": {
   "codemirror_mode": {
    "name": "ipython",
    "version": 3
   },
   "file_extension": ".py",
   "mimetype": "text/x-python",
   "name": "python",
   "nbconvert_exporter": "python",
   "pygments_lexer": "ipython3",
   "version": "3.11.7"
  }
 },
 "nbformat": 4,
 "nbformat_minor": 5
}
